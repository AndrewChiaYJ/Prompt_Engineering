{
 "cells": [
  {
   "cell_type": "code",
   "execution_count": null,
   "metadata": {
    "id": "ur8xi4C7S06n"
   },
   "outputs": [],
   "source": [
    "# Copyright 2024 Google LLC\n",
    "#\n",
    "# Licensed under the Apache License, Version 2.0 (the \"License\");\n",
    "# you may not use this file except in compliance with the License.\n",
    "# You may obtain a copy of the License at\n",
    "#\n",
    "#     https://www.apache.org/licenses/LICENSE-2.0\n",
    "#\n",
    "# Unless required by applicable law or agreed to in writing, software\n",
    "# distributed under the License is distributed on an \"AS IS\" BASIS,\n",
    "# WITHOUT WARRANTIES OR CONDITIONS OF ANY KIND, either express or implied.\n",
    "# See the License for the specific language governing permissions and\n",
    "# limitations under the License."
   ]
  },
  {
   "cell_type": "markdown",
   "metadata": {
    "id": "JAPoU8Sm5E6e"
   },
   "source": [
    "# Prompt Design - Best Practices\n",
    "\n",
    "<table align=\"left\">\n",
    "  <td style=\"text-align: center\">\n",
    "    <a href=\"https://colab.research.google.com/github/GoogleCloudPlatform/generative-ai/blob/main/gemini/prompts/intro_prompt_design.ipynb\">\n",
    "      <img src=\"https://cloud.google.com/ml-engine/images/colab-logo-32px.png\" alt=\"Google Colaboratory logo\"><br> Open in Colab\n",
    "    </a>\n",
    "  </td>\n",
    "  <td style=\"text-align: center\">\n",
    "    <a href=\"https://console.cloud.google.com/vertex-ai/colab/import/https:%2F%2Fraw.githubusercontent.com%2FGoogleCloudPlatform%2Fgenerative-ai%2Fmain%2Fgemini%2Fprompts%2Fintro_prompt_design.ipynb\">\n",
    "      <img width=\"32px\" src=\"https://lh3.googleusercontent.com/JmcxdQi-qOpctIvWKgPtrzZdJJK-J3sWE1RsfjZNwshCFgE_9fULcNpuXYTilIR2hjwN\" alt=\"Google Cloud Colab Enterprise logo\"><br> Open in Colab Enterprise\n",
    "    </a>\n",
    "  </td>    \n",
    "  <td style=\"text-align: center\">\n",
    "    <a href=\"https://console.cloud.google.com/vertex-ai/workbench/deploy-notebook?download_url=https://raw.githubusercontent.com/GoogleCloudPlatform/generative-ai/main/gemini/prompts/intro_prompt_design.ipynb\">\n",
    "      <img src=\"https://lh3.googleusercontent.com/UiNooY4LUgW_oTvpsNhPpQzsstV5W8F7rYgxgGBD85cWJoLmrOzhVs_ksK_vgx40SHs7jCqkTkCk=e14-rj-sc0xffffff-h130-w32\" alt=\"Vertex AI logo\"><br> Open in Workbench\n",
    "    </a>\n",
    "  </td>\n",
    "  <td style=\"text-align: center\">\n",
    "    <a href=\"https://github.com/GoogleCloudPlatform/generative-ai/blob/main/gemini/prompts/intro_prompt_design.ipynb\">\n",
    "      <img src=\"https://cloud.google.com/ml-engine/images/github-logo-32px.png\" alt=\"GitHub logo\"><br> View on GitHub\n",
    "    </a>\n",
    "  </td>\n",
    "</table>"
   ]
  },
  {
   "cell_type": "markdown",
   "metadata": {
    "id": "84f0f73a0f76"
   },
   "source": [
    "| | | |\n",
    "|-|-|-|\n",
    "|Author(s) | [Polong Lin](https://github.com/polong-lin) | [Karl Weinmeister](https://github.com/kweinmeister)|"
   ]
  },
  {
   "cell_type": "markdown",
   "metadata": {
    "id": "tvgnzT1CKxrO"
   },
   "source": [
    "## Overview\n",
    "\n",
    "This notebook covers the essentials of prompt engineering, including some best practices.\n",
    "\n",
    "Learn more about prompt design in the [official documentation](https://cloud.google.com/vertex-ai/docs/generative-ai/text/text-overview).\n",
    "\n",
    "In this notebook, you learn best practices around prompt engineering -- how to design prompts to improve the quality of your responses.\n",
    "\n",
    "This notebook covers the following best practices for prompt engineering:\n",
    "\n",
    "- Be concise\n",
    "- Be specific and well-defined\n",
    "- Ask one task at a time\n",
    "- Turn generative tasks into classification tasks\n",
    "- Improve response quality by including examples"
   ]
  },
  {
   "cell_type": "markdown",
   "metadata": {
    "id": "61RBz8LLbxCR"
   },
   "source": [
    "## Getting Started"
   ]
  },
  {
   "cell_type": "markdown",
   "metadata": {
    "id": "No17Cw5hgx12"
   },
   "source": [
    "### Install Vertex AI SDK and other required packages\n"
   ]
  },
  {
   "cell_type": "code",
   "execution_count": 1,
   "metadata": {
    "id": "tFy3H3aPgx12",
    "tags": []
   },
   "outputs": [
    {
     "name": "stdout",
     "output_type": "stream",
     "text": [
      "\u001b[33m  WARNING: The script tb-gcp-uploader is installed in '/home/jupyter/.local/bin' which is not on PATH.\n",
      "  Consider adding this directory to PATH or, if you prefer to suppress this warning, use --no-warn-script-location.\u001b[0m\u001b[33m\n",
      "\u001b[0mNote: you may need to restart the kernel to use updated packages.\n"
     ]
    }
   ],
   "source": [
    "%pip install --upgrade --user --quiet google-cloud-aiplatform"
   ]
  },
  {
   "cell_type": "markdown",
   "metadata": {
    "id": "R5Xep4W9lq-Z"
   },
   "source": [
    "### Restart runtime\n",
    "\n",
    "To use the newly installed packages in this Jupyter runtime, you must restart the runtime. You can do this by running the cell below, which will restart the current kernel."
   ]
  },
  {
   "cell_type": "code",
   "execution_count": 2,
   "metadata": {
    "id": "XRvKdaPDTznN",
    "tags": []
   },
   "outputs": [
    {
     "data": {
      "text/plain": [
       "{'status': 'ok', 'restart': True}"
      ]
     },
     "execution_count": 2,
     "metadata": {},
     "output_type": "execute_result"
    }
   ],
   "source": [
    "import IPython\n",
    "\n",
    "app = IPython.Application.instance()\n",
    "app.kernel.do_shutdown(True)"
   ]
  },
  {
   "cell_type": "markdown",
   "metadata": {
    "id": "SbmM4z7FOBpM"
   },
   "source": [
    "<div class=\"alert alert-block alert-warning\">\n",
    "<b>⚠️ The kernel is going to restart. Please wait until it is finished before continuing to the next step. ⚠️</b>\n",
    "</div>\n"
   ]
  },
  {
   "cell_type": "markdown",
   "metadata": {
    "id": "dmWOrTJ3gx13"
   },
   "source": [
    "### Authenticate your notebook environment (Colab only)\n",
    "\n",
    "Authenticate your environment on Google Colab.\n"
   ]
  },
  {
   "cell_type": "code",
   "execution_count": 1,
   "metadata": {
    "id": "NyKGtVQjgx13",
    "tags": []
   },
   "outputs": [],
   "source": [
    "import sys\n",
    "\n",
    "if \"google.colab\" in sys.modules:\n",
    "    from google.colab import auth\n",
    "\n",
    "    auth.authenticate_user()"
   ]
  },
  {
   "cell_type": "markdown",
   "metadata": {
    "id": "DF4l8DTdWgPY"
   },
   "source": [
    "### Set Google Cloud project information and initialize Vertex AI SDK\n",
    "\n",
    "To get started using Vertex AI, you must have an existing Google Cloud project and [enable the Vertex AI API](https://console.cloud.google.com/flows/enableapi?apiid=aiplatform.googleapis.com).\n",
    "\n",
    "Learn more about [setting up a project and a development environment](https://cloud.google.com/vertex-ai/docs/start/cloud-environment)."
   ]
  },
  {
   "cell_type": "code",
   "execution_count": 2,
   "metadata": {
    "id": "Nqwi-5ufWp_B",
    "tags": []
   },
   "outputs": [],
   "source": [
    "PROJECT_ID = \"qwiklabs-gcp-03-56464b18fd09\"  # @param {type:\"string\"}\n",
    "LOCATION = \"us-east4\"  # @param {type:\"string\"}\n",
    "\n",
    "import vertexai\n",
    "\n",
    "vertexai.init(project=PROJECT_ID, location=LOCATION)"
   ]
  },
  {
   "cell_type": "code",
   "execution_count": 3,
   "metadata": {
    "id": "QqRWdPGmW3NJ",
    "tags": []
   },
   "outputs": [],
   "source": [
    "from vertexai.generative_models import GenerationConfig, GenerativeModel\n",
    "import time"
   ]
  },
  {
   "cell_type": "markdown",
   "metadata": {
    "id": "OnFPpCRtXRl4"
   },
   "source": [
    "### Load model"
   ]
  },
  {
   "cell_type": "code",
   "execution_count": 4,
   "metadata": {
    "id": "IQYu_9SvXQah",
    "tags": []
   },
   "outputs": [],
   "source": [
    "model = GenerativeModel(\"gemini-1.5-flash\")"
   ]
  },
  {
   "cell_type": "code",
   "execution_count": 5,
   "metadata": {
    "tags": []
   },
   "outputs": [],
   "source": [
    "import time\n",
    "\n",
    "def call_gemini(prompt, generation_config=GenerationConfig(temperature=1.0)):\n",
    "    wait_time = 1\n",
    "    while True:\n",
    "        try:\n",
    "            response = model.generate_content(prompt, generation_config=generation_config).text\n",
    "            return response\n",
    "            break  # Exit the loop if successful\n",
    "        except Exception as e:  # Replace with the actual exception type\n",
    "            time.sleep(wait_time)\n",
    "            wait_time *= 2  # Double the wait time\n",
    "\n",
    "def send_message_gemini(model, prompt):    \n",
    "    wait_time = 1\n",
    "    while True:\n",
    "        try:\n",
    "            response = model.send_message(prompt).text\n",
    "            return response\n",
    "            break  # Exit the loop if successful\n",
    "        except Exception as e:  # Replace with the actual exception type\n",
    "            time.sleep(wait_time)\n",
    "            wait_time *= 2  # Double the wait time"
   ]
  },
  {
   "cell_type": "markdown",
   "metadata": {
    "id": "cVOtUNJ5X0PY"
   },
   "source": [
    "## Prompt engineering best practices"
   ]
  },
  {
   "cell_type": "markdown",
   "metadata": {
    "id": "uv_e0fEPX60q"
   },
   "source": [
    "Prompt engineering is all about how to design your prompts so that the response is what you were indeed hoping to see.\n",
    "\n",
    "The idea of using \"unfancy\" prompts is to minimize the noise in your prompt to reduce the possibility of the LLM misinterpreting the intent of the prompt. Below are a few guidelines on how to engineer \"unfancy\" prompts.\n",
    "\n",
    "In this section, you'll cover the following best practices when engineering prompts:\n",
    "\n",
    "* Be concise\n",
    "* Be specific, and well-defined\n",
    "* Ask one task at a time\n",
    "* Improve response quality by including examples\n",
    "* Turn generative tasks to classification tasks to improve safety"
   ]
  },
  {
   "cell_type": "markdown",
   "metadata": {
    "id": "0pY4XX0OX9_Y"
   },
   "source": [
    "### Be concise"
   ]
  },
  {
   "cell_type": "markdown",
   "metadata": {
    "id": "xlRpxyxGYA1K"
   },
   "source": [
    "🛑 Not recommended. The prompt below is unnecessarily verbose."
   ]
  },
  {
   "cell_type": "code",
   "execution_count": 6,
   "metadata": {
    "id": "YKV4G-CfXdbi",
    "tags": []
   },
   "outputs": [
    {
     "name": "stdout",
     "output_type": "stream",
     "text": [
      "Here are some names for a flower shop specializing in dried bouquets, playing on various themes:\n",
      "\n",
      "**Evoking Timelessness and Durability:**\n",
      "\n",
      "* Everlasting Blooms\n",
      "* The Dried Flower Garden\n",
      "* Timeless Bouquet\n",
      "* Bloom & Preserve\n",
      "* The Eternal Petal\n",
      "\n",
      "**Highlighting the Craft and Uniqueness:**\n",
      "\n",
      "* The Dried Flower Atelier\n",
      "* The Botanical Studio\n",
      "* The Dried Flower Collective\n",
      "* Whispers of Wildflowers\n",
      "* The Dried Flower Artistry\n",
      "\n",
      "**Focusing on Nature and Sustainability:**\n",
      "\n",
      "* The Wildflower Co.\n",
      "* Earth & Bloom\n",
      "* The Botanical Preserve\n",
      "* Sun-Kissed Blooms\n",
      "* Nature's Tapestry\n",
      "\n",
      "**Short and Catchy:**\n",
      "\n",
      "* Petal & Twig\n",
      "* The Bloomery\n",
      "* Dried & Delicate\n",
      "* Bloom & Co.\n",
      "* The Flower Bar\n",
      "\n",
      "**Bonus:**\n",
      "\n",
      "* [Your Name]'s Dried Flowers\n",
      "* [City/Neighborhood] Dried Flowers\n",
      "\n",
      "**Tips for Choosing a Name:**\n",
      "\n",
      "* **Consider your target audience:** Who are you trying to attract?\n",
      "* **Make it memorable:** A name that is easy to remember and pronounce is key.\n",
      "* **Check for availability:** Make sure the name is not already taken.\n",
      "* **Reflect your brand:** The name should reflect the style and personality of your shop. \n",
      "\n",
      "Remember, the best name is one that you love and that resonates with your customers. Good luck!\n"
     ]
    }
   ],
   "source": [
    "prompt = \"What do you think could be a good name for a flower shop that specializes in selling bouquets of dried flowers more than fresh flowers?\"\n",
    "\n",
    "print(call_gemini(prompt))"
   ]
  },
  {
   "cell_type": "markdown",
   "metadata": {
    "id": "YrJexRHJYnmC"
   },
   "source": [
    "✅ Recommended. The prompt below is to the point and concise."
   ]
  },
  {
   "cell_type": "code",
   "execution_count": 7,
   "metadata": {
    "id": "VHetn9lCYrXB",
    "tags": []
   },
   "outputs": [
    {
     "name": "stdout",
     "output_type": "stream",
     "text": [
      "## Catchy & Creative:\n",
      "\n",
      "* **Bloom Eternal**\n",
      "* **Dried & Delightful**\n",
      "* **Forever in Bloom**\n",
      "* **The Dusty Bouquet**\n",
      "* **Whispers of Wildflowers**\n",
      "* **Sun Kissed Blooms**\n",
      "* **Paper Petal Co.**\n",
      "* **Botanical Reverie**\n",
      "* **The Dried Flower Studio**\n",
      "* **Everlasting Blooms**\n",
      "\n",
      "## Elegant & Romantic:\n",
      "\n",
      "* **The Timeless Bloom**\n",
      "* **Whispers of Lavender**\n",
      "* **The Dried Garden**\n",
      "* **Bloom & Beyond**\n",
      "* **The Botanical Muse**\n",
      "* **Serene Blooms**\n",
      "* **The Flower Alchemist**\n",
      "* **The Dried Florist**\n",
      "* **The Vintage Bouquet**\n",
      "* **Ethereal Blooms**\n",
      "\n",
      "## Playful & Unique:\n",
      "\n",
      "* **Blooming Memories**\n",
      "* **The Flower Fairy**\n",
      "* **The Dried Bouquet Bar**\n",
      "* **Petal & Dust**\n",
      "* **The Floral Revival**\n",
      "* **The Dusty Rose**\n",
      "* **Blooming Nostalgia**\n",
      "* **The Petal Press**\n",
      "* **The Dried & Darling**\n",
      "* **The Bloom Whisperer**\n",
      "\n",
      "**Pro Tip:**\n",
      "\n",
      "* Consider your target audience and the overall vibe you want to create.\n",
      "* Keep the name short, memorable, and easy to pronounce.\n",
      "* Check for available domain names and social media handles. \n",
      "\n"
     ]
    }
   ],
   "source": [
    "prompt = \"Suggest a name for a flower shop that sells bouquets of dried flowers\"\n",
    "\n",
    "print(call_gemini(prompt))"
   ]
  },
  {
   "cell_type": "markdown",
   "metadata": {
    "id": "eXTAvdOHY0OC"
   },
   "source": [
    "### Be specific, and well-defined"
   ]
  },
  {
   "cell_type": "markdown",
   "metadata": {
    "id": "FTH4GEIgY1dp"
   },
   "source": [
    "Suppose that you want to brainstorm creative ways to describe Earth."
   ]
  },
  {
   "cell_type": "markdown",
   "metadata": {
    "id": "o5BmXBiGY4KC"
   },
   "source": [
    "🛑 The prompt below might be a bit too generic (which is certainly OK if you'd like to ask a generic question!)"
   ]
  },
  {
   "cell_type": "code",
   "execution_count": 8,
   "metadata": {
    "id": "eHBaMvv7Y6mR",
    "tags": []
   },
   "outputs": [
    {
     "name": "stdout",
     "output_type": "stream",
     "text": [
      "## Earth: Our Home Planet\n",
      "\n",
      "Earth is the third planet from the Sun and the only known place in the universe where life exists. Here's a glimpse into our incredible home:\n",
      "\n",
      "**A Blue Marble:**\n",
      "\n",
      "* **Surface:** Mostly covered in water (71%), with continents and islands making up the remaining landmass. \n",
      "* **Atmosphere:** A protective layer of gases, mainly nitrogen and oxygen, that keeps us warm and shields us from harmful radiation.\n",
      "* **Unique Features:** Earth has a dynamic atmosphere with weather patterns, a diverse range of ecosystems, and active geological processes like volcanoes and earthquakes.\n",
      "\n",
      "**Life Abundant:**\n",
      "\n",
      "* **Biodiversity:** Earth is home to millions of species, from microscopic bacteria to giant whales.\n",
      "* **Ecosystems:** From rainforests to deserts, oceans to mountains, Earth's diverse ecosystems support a complex web of life.\n",
      "* **Humanity:** Our species, *Homo sapiens*, has evolved and thrived on Earth, shaping its landscape and culture.\n",
      "\n",
      "**A Planet in Motion:**\n",
      "\n",
      "* **Rotation:** Earth spins on its axis, creating day and night.\n",
      "* **Revolution:** Earth orbits the Sun, causing seasons and the year.\n",
      "* **Magnetic Field:**  Earth's magnetic field protects us from solar wind, making life possible.\n",
      "\n",
      "**Facing Challenges:**\n",
      "\n",
      "* **Climate Change:** Human activities have caused significant changes in the Earth's climate, leading to extreme weather events and rising sea levels.\n",
      "* **Pollution:** Contamination of air, water, and soil poses a threat to human health and ecosystems.\n",
      "* **Resource Depletion:** Overconsumption of natural resources is straining the planet's ability to sustain life.\n",
      "\n",
      "**A Planet Worth Protecting:**\n",
      "\n",
      "* **Sustainability:** We need to find ways to live in harmony with Earth's resources, ensuring a healthy planet for future generations.\n",
      "* **Conservation:** Protecting biodiversity, ecosystems, and natural resources is crucial for our survival.\n",
      "* **Scientific Exploration:** Understanding Earth through scientific research helps us better protect and manage our planet.\n",
      "\n",
      "Earth is a unique and precious planet, teeming with life and beauty. It's our responsibility to care for this incredible home and ensure its future. \n",
      "\n"
     ]
    }
   ],
   "source": [
    "prompt = \"Tell me about Earth\"\n",
    "\n",
    "print(call_gemini(prompt))"
   ]
  },
  {
   "cell_type": "markdown",
   "metadata": {
    "id": "4iyvEbteZnFL"
   },
   "source": [
    "✅ Recommended. The prompt below is specific and well-defined."
   ]
  },
  {
   "cell_type": "code",
   "execution_count": 9,
   "metadata": {
    "id": "JQ80z8urZnne",
    "tags": []
   },
   "outputs": [
    {
     "name": "stdout",
     "output_type": "stream",
     "text": [
      "## What makes Earth unique?\n",
      "\n",
      "Earth is a truly remarkable planet, and while other planets share some characteristics, Earth is unique in its combination of factors that make it the only known place harboring life as we know it. Here's a list of Earth's unique qualities:\n",
      "\n",
      "**1. Liquid water:** Earth is the only planet in our solar system with liquid water on its surface. This is crucial for life, as water acts as a solvent, facilitates chemical reactions, and helps regulate temperature.\n",
      "\n",
      "**2. Plate tectonics:** Earth's unique geological processes, driven by plate tectonics, create diverse landscapes, volcanic activity, and the recycling of Earth's crust. This dynamism helps regulate the climate and provides essential nutrients for life.\n",
      "\n",
      "**3. Stable atmosphere:** Earth's atmosphere, rich in nitrogen and oxygen, provides a protective layer from harmful solar radiation and helps regulate temperature. The presence of oxygen is crucial for respiration and allows for the development of complex life forms.\n",
      "\n",
      "**4. Magnetic field:** Earth's magnetic field shields us from the solar wind, protecting us from harmful charged particles. This field is generated by the molten iron core and is crucial for life to thrive.\n",
      "\n",
      "**5. Distance from the Sun:** Earth orbits in the habitable zone, where temperatures are just right for liquid water to exist. This \"Goldilocks zone\" is essential for the development and survival of life.\n",
      "\n",
      "**6. Diverse biosphere:** Earth boasts an unparalleled variety of life forms, from microscopic bacteria to giant sequoia trees. This biodiversity is a testament to the planet's unique conditions and its remarkable history of evolution.\n",
      "\n",
      "**7. Global climate system:** Earth has a complex climate system with diverse weather patterns, seasonal variations, and ocean currents. This dynamic system helps regulate temperature and distribute resources, creating a suitable environment for life.\n",
      "\n",
      "**8. Moon:** Earth's large moon stabilizes its axis tilt, leading to predictable seasons. The moon also affects tides, which play a significant role in shaping coastal ecosystems and influencing marine life.\n",
      "\n",
      "**9. Abundant resources:** Earth has a vast supply of essential resources like minerals, water, and organic matter, providing the building blocks for life and supporting a complex ecosystem.\n",
      "\n",
      "**10. Intelligence:** Earth is the only known planet where intelligent life has evolved and developed complex civilizations. This remarkable achievement is a testament to the unique conditions and evolutionary history of our planet.\n",
      "\n",
      "**Beyond these key features:**\n",
      "\n",
      "* Earth's diverse geological formations, ranging from mountains to oceans, provide various habitats for life.\n",
      "* The presence of abundant organic compounds and a robust carbon cycle are essential for life.\n",
      "* Earth's active geological processes, including volcanic activity and erosion, contribute to a constantly evolving and dynamic environment.\n",
      "\n",
      "While we have yet to discover life on other planets, Earth's unique combination of factors makes it the only confirmed haven for life as we know it. The study of Earth and its unique features helps us understand the conditions necessary for life and guides our search for life elsewhere in the universe.\n",
      "\n"
     ]
    }
   ],
   "source": [
    "prompt = \"Generate a list of ways that makes Earth unique compared to other planets\"\n",
    "\n",
    "print(call_gemini(prompt))"
   ]
  },
  {
   "cell_type": "markdown",
   "metadata": {
    "id": "R5kmfZYHZsJ7"
   },
   "source": [
    "### Ask one task at a time"
   ]
  },
  {
   "cell_type": "markdown",
   "metadata": {
    "id": "rsAezxeYZuUN"
   },
   "source": [
    "🛑 Not recommended. The prompt below has two parts to the question that could be asked separately."
   ]
  },
  {
   "cell_type": "code",
   "execution_count": 10,
   "metadata": {
    "id": "ElywPXpuZtWf",
    "tags": []
   },
   "outputs": [
    {
     "name": "stdout",
     "output_type": "stream",
     "text": [
      "Let's break down these two questions:\n",
      "\n",
      "**Boiling Water**\n",
      "\n",
      "The \"best\" method depends on your needs and resources:\n",
      "\n",
      "* **Stovetop:** This is the most common and versatile method. Use a pot with a wide base and a lid for faster heating. \n",
      "* **Electric Kettle:**  Fast and efficient, especially for small volumes.  \n",
      "* **Microwave:**  Quick for small quantities, but may not boil evenly.\n",
      "* **Campfire:**  A classic method, but requires fuel and time. \n",
      "\n",
      "**Why the Sky is Blue**\n",
      "\n",
      "The sky appears blue due to a phenomenon called **Rayleigh scattering**. Here's the simplified explanation:\n",
      "\n",
      "* **Sunlight is a mix of colors:**  White sunlight is actually made up of all the colors of the rainbow.\n",
      "* **Air molecules scatter light:**  When sunlight enters the Earth's atmosphere, it collides with tiny air molecules (nitrogen and oxygen).\n",
      "* **Shorter wavelengths scatter more:** Blue light has a shorter wavelength than other colors, so it scatters more readily off these molecules.\n",
      "* **Blue light reaches our eyes:**  This scattered blue light reaches our eyes from all directions, making the sky appear blue.\n",
      "\n",
      "**Bonus:**\n",
      "\n",
      "* **Sunsets are red:**  At sunset, sunlight travels through more of the atmosphere, scattering even more blue light.  The remaining colors (red, orange, yellow) reach our eyes, creating the reddish hues of sunset.\n",
      "\n",
      "Let me know if you'd like more details on any of these topics! \n",
      "\n"
     ]
    }
   ],
   "source": [
    "prompt = \"What's the best method of boiling water and why is the sky blue?\"\n",
    "\n",
    "print(call_gemini(prompt))"
   ]
  },
  {
   "cell_type": "markdown",
   "metadata": {
    "id": "ejzahazBZ8vk"
   },
   "source": [
    "✅ Recommended. The prompts below asks one task a time."
   ]
  },
  {
   "cell_type": "code",
   "execution_count": 11,
   "metadata": {
    "id": "C5ckp2F0Z_Ba",
    "tags": []
   },
   "outputs": [
    {
     "name": "stdout",
     "output_type": "stream",
     "text": [
      "There's no single \"best\" method, as it depends on your needs and resources. Here's a breakdown of the most common methods and their pros and cons:\n",
      "\n",
      "**1. Stovetop:**\n",
      "\n",
      "* **Pros:** Widely accessible, fast, and allows for precise temperature control.\n",
      "* **Cons:** Requires attention, can be inefficient if using a large pot, and may require a longer boil time for larger quantities.\n",
      "\n",
      "**2. Electric Kettle:**\n",
      "\n",
      "* **Pros:** Fast, efficient, and convenient. Many models have automatic shut-off features and temperature control options.\n",
      "* **Cons:** Can be expensive, limited capacity, and not as versatile for other cooking tasks.\n",
      "\n",
      "**3. Microwave:**\n",
      "\n",
      "* **Pros:** Super fast, convenient, and energy-efficient for small quantities.\n",
      "* **Cons:** Not ideal for large quantities, can be uneven heating, and some microwaves lack sufficient power.\n",
      "\n",
      "**4. Camping Stove:**\n",
      "\n",
      "* **Pros:** Portable and versatile for outdoor use.\n",
      "* **Cons:** Requires fuel, can be slower than stovetop or electric kettle, and requires careful handling.\n",
      "\n",
      "**5. Other Options:**\n",
      "\n",
      "* **Solar Cooker:** Free energy, but slow and weather-dependent.\n",
      "* **Pressure Cooker:** Extremely fast, but limited in capacity.\n",
      "\n",
      "**Here are some tips for boiling water regardless of your method:**\n",
      "\n",
      "* **Use a clean pot:** Avoid contamination and ensure clean water.\n",
      "* **Start with cold water:** Saves energy and allows for faster boiling.\n",
      "* **Cover the pot:** Reduces evaporation and speeds up boiling.\n",
      "* **Don't overfill the pot:** Leave space for the water to boil and expand.\n",
      "* **Watch the water:** Don't walk away, as boiling water can quickly overflow.\n",
      "\n",
      "**Ultimately, the best method depends on your individual needs and preferences.**  If you're in a hurry, an electric kettle or microwave are great options. If you're camping or need a large quantity, a stovetop or camping stove are more suitable. \n",
      "\n"
     ]
    }
   ],
   "source": [
    "prompt = \"What's the best method of boiling water?\"\n",
    "\n",
    "print(call_gemini(prompt))"
   ]
  },
  {
   "cell_type": "code",
   "execution_count": 12,
   "metadata": {
    "id": "KwUzhud4aA89",
    "tags": []
   },
   "outputs": [
    {
     "name": "stdout",
     "output_type": "stream",
     "text": [
      "The sky is blue due to a phenomenon called **Rayleigh scattering**. Here's a breakdown:\n",
      "\n",
      "* **Sunlight is made of all colors:**  The sun emits light containing all colors of the rainbow. \n",
      "* **Air molecules scatter light:**  When sunlight enters the Earth's atmosphere, it interacts with tiny particles like nitrogen and oxygen molecules. These molecules are much smaller than the wavelengths of visible light.\n",
      "* **Blue light scatters more:**  Shorter wavelengths of light, like blue and violet, are scattered more effectively by these small particles. This scattering happens in all directions.\n",
      "* **We see the scattered blue light:**  As a result, we see the scattered blue light coming from all directions in the sky, making the sky appear blue.\n",
      "\n",
      "**Why isn't the sky violet?** \n",
      "\n",
      "While violet light is scattered even more than blue, our eyes are more sensitive to blue light. This is why we perceive the sky as blue rather than violet.\n",
      "\n",
      "**Other factors influencing sky color:**\n",
      "\n",
      "* **Time of day:**  The sky appears reddish at sunrise and sunset because the sunlight has to travel through more of the atmosphere to reach our eyes, scattering away most of the blue light and leaving the longer wavelengths (red, orange, and yellow) behind.\n",
      "* **Clouds:**  Clouds reflect all colors of light equally, making them appear white.\n",
      "\n",
      "**Let me know if you'd like to know more about Rayleigh scattering or other atmospheric phenomena!** \n",
      "\n"
     ]
    }
   ],
   "source": [
    "prompt = \"Why is the sky blue?\"\n",
    "\n",
    "print(call_gemini(prompt))"
   ]
  },
  {
   "cell_type": "markdown",
   "metadata": {
    "id": "PJIL2RTQaGcT"
   },
   "source": [
    "### Watch out for hallucinations"
   ]
  },
  {
   "cell_type": "markdown",
   "metadata": {
    "id": "8Y8kYxrSaHE9"
   },
   "source": [
    "Although LLMs have been trained on a large amount of data, they can generate text containing statements not grounded in truth or reality; these responses from the LLM are often referred to as \"hallucinations\" due to their limited memorization capabilities. Note that simply prompting the LLM to provide a citation isn't a fix to this problem, as there are instances of LLMs providing false or inaccurate citations. Dealing with hallucinations is a fundamental challenge of LLMs and an ongoing research area, so it is important to be cognizant that LLMs may seem to give you confident, correct-sounding statements that are in fact incorrect.\n",
    "\n",
    "Note that if you intend to use LLMs for the creative use cases, hallucinating could actually be quite useful."
   ]
  },
  {
   "cell_type": "markdown",
   "metadata": {
    "id": "8NY5nAGeaJYS"
   },
   "source": [
    "Try the prompt like the one below repeatedly. We set the temperature to 1.0 so that it takes more risks in its choices. It's possible that it may provide an inaccurate, but confident answer."
   ]
  },
  {
   "cell_type": "code",
   "execution_count": 19,
   "metadata": {
    "id": "QALPjEILaM62",
    "tags": []
   },
   "outputs": [
    {
     "name": "stdout",
     "output_type": "stream",
     "text": [
      "I do not have access to real-time information, including the current date. To know what day it is today, please check a calendar or a timekeeping device. \n",
      "\n"
     ]
    }
   ],
   "source": [
    "generation_config = GenerationConfig(temperature=1.0)\n",
    "\n",
    "prompt = \"What day is it today?\"\n",
    "\n",
    "print(call_gemini(prompt, generation_config))"
   ]
  },
  {
   "cell_type": "markdown",
   "metadata": {
    "id": "BRkwzbgRbhKt"
   },
   "source": [
    "Since LLMs do not have access to real-time information without further integrations, you may have noticed it hallucinates what day it is today in some of the outputs."
   ]
  },
  {
   "cell_type": "markdown",
   "metadata": {
    "id": "3c811e310d02"
   },
   "source": [
    "### Using system instructions to guardrail the model from irrelevant responses\n",
    "\n",
    "How can we attempt to reduce the chances of irrelevant responses and hallucinations?\n",
    "\n",
    "One way is to provide the LLM with [system instructions](https://cloud.google.com/vertex-ai/generative-ai/docs/multimodal/send-chat-prompts-gemini#system-instructions).\n",
    "\n",
    "Let's see how system instructions works and how you can use them to reduce hallucinations or irrelevant questions for a travel chatbot.\n",
    "\n",
    "Suppose we ask a simple question about one of Italy's most famous tourist spots."
   ]
  },
  {
   "cell_type": "code",
   "execution_count": 22,
   "metadata": {
    "id": "rB6zJU76biFK",
    "tags": []
   },
   "outputs": [
    {
     "name": "stdout",
     "output_type": "stream",
     "text": [
      "Milan offers a wealth of sightseeing opportunities! To give you the best recommendation, I need a bit more information. \n",
      "\n",
      "What are you most interested in seeing? \n",
      "\n",
      "* **Art and History:**  The Duomo, Sforza Castle, and the Pinacoteca di Brera are must-sees.\n",
      "* **Fashion and Design:**  Visit the Galleria Vittorio Emanuele II, the Quadrilatero della Moda (fashion district), and the Museo del Novecento.\n",
      "* **Culture and Entertainment:**  Catch a performance at Teatro alla Scala or explore the vibrant Navigli canals.\n",
      "\n",
      "Tell me what you're looking for, and I can point you to the perfect spot in Milan! \n",
      "\n"
     ]
    }
   ],
   "source": [
    "model_travel = GenerativeModel(\n",
    "    model_name=\"gemini-1.5-flash\",\n",
    "    system_instruction=[\n",
    "        \"Hello! You are an AI chatbot for a travel web site.\",\n",
    "        \"Your mission is to provide helpful queries for travelers.\",\n",
    "        \"Remember that before you answer a question, you must check to see if it complies with your mission.\",\n",
    "        \"If not, you can say, Sorry I can't answer that question.\",\n",
    "    ],\n",
    ")\n",
    "\n",
    "chat = model_travel.start_chat()\n",
    "\n",
    "prompt = \"What is the best place for sightseeing in Milan, Italy?\"\n",
    "\n",
    "print(send_message_gemini(chat, prompt))"
   ]
  },
  {
   "cell_type": "markdown",
   "metadata": {
    "id": "WZa-Qcf9cF4A"
   },
   "source": [
    "Now let us pretend to be a user asks the chatbot a question that is unrelated to travel."
   ]
  },
  {
   "cell_type": "code",
   "execution_count": 24,
   "metadata": {
    "id": "AZKBIDr2cGnu",
    "tags": []
   },
   "outputs": [
    {
     "name": "stdout",
     "output_type": "stream",
     "text": [
      "Sorry, I can't answer that question. I'm designed to help with travel planning, not personal decisions like what to eat. \n",
      "\n",
      "Do you have any questions about restaurants in Milan, or maybe you're looking for some local food recommendations? I'd be happy to help with that! \n",
      "\n"
     ]
    }
   ],
   "source": [
    "prompt = \"What's for dinner?\"\n",
    "\n",
    "print(send_message_gemini(chat, prompt))"
   ]
  },
  {
   "cell_type": "markdown",
   "metadata": {
    "id": "JiUYIhwpctCy"
   },
   "source": [
    "You can see that this way, a guardrail in the prompt prevented the chatbot from veering off course."
   ]
  },
  {
   "cell_type": "markdown",
   "metadata": {
    "id": "ZuuDhA37cvmP"
   },
   "source": [
    "### Turn generative tasks into classification tasks to reduce output variability"
   ]
  },
  {
   "cell_type": "markdown",
   "metadata": {
    "id": "kUCUrsUzczmb"
   },
   "source": [
    "#### Generative tasks lead to higher output variability"
   ]
  },
  {
   "cell_type": "markdown",
   "metadata": {
    "id": "a1xASHAkc46n"
   },
   "source": [
    "The prompt below results in an open-ended response, useful for brainstorming, but response is highly variable."
   ]
  },
  {
   "cell_type": "code",
   "execution_count": 20,
   "metadata": {
    "id": "nPfXQWIacwRf",
    "tags": []
   },
   "outputs": [
    {
     "name": "stdout",
     "output_type": "stream",
     "text": [
      "Let's find a programming activity that'll help you level up! To give you the best suggestion, tell me a bit about yourself:\n",
      "\n",
      "**1. What programming languages are you familiar with?** (e.g., Python, Java, JavaScript, C++, etc.)\n",
      "**2. What are you interested in?** (e.g., web development, game development, data science, machine learning, mobile app development, etc.)\n",
      "**3. What's your current skill level?** (e.g., beginner, intermediate, advanced)\n",
      "\n",
      "Once you answer these questions, I can recommend a project that's both fun and challenging for you.\n",
      "\n",
      "Here are some ideas to get you started:\n",
      "\n",
      "**For beginners:**\n",
      "\n",
      "* **Build a simple text-based adventure game:** This helps you practice with variables, conditionals, loops, and input/output.\n",
      "* **Create a program that generates a random password:** You'll learn about string manipulation, random number generation, and potentially some basic cryptography concepts.\n",
      "* **Design a basic calculator:** This is a good way to solidify your understanding of operators and basic math functions.\n",
      "* **Create a simple website with HTML, CSS, and JavaScript:** You'll learn the fundamentals of web development and how to create interactive web pages.\n",
      "\n",
      "**For intermediate learners:**\n",
      "\n",
      "* **Develop a simple to-do list app:** This project lets you practice working with user interfaces, data storage, and basic application logic.\n",
      "* **Create a script to automate a repetitive task:**  This could be something like automatically downloading files, sending emails, or generating reports.\n",
      "* **Contribute to an open-source project:** This is a great way to learn from experienced developers and gain practical experience.\n",
      "* **Build a small game with a game engine (like Unity or Godot):** This allows you to explore game design principles and use visual scripting tools.\n",
      "\n",
      "**For advanced learners:**\n",
      "\n",
      "* **Develop a complex web application:** This could be a social media platform, an e-commerce store, or a custom tool for your chosen field.\n",
      "* **Work on a personal project that interests you:** This could be anything from building a chatbot to creating a machine learning model.\n",
      "* **Participate in a coding competition:** This is a challenging way to test your skills and see where you stand against others.\n",
      "\n",
      "Remember, the best way to improve your programming skills is to practice regularly and work on projects that you find exciting and motivating. \n",
      "\n"
     ]
    }
   ],
   "source": [
    "prompt = \"I'm a high school student. Recommend me a programming activity to improve my skills.\"\n",
    "\n",
    "print(call_gemini(prompt))"
   ]
  },
  {
   "cell_type": "markdown",
   "metadata": {
    "id": "iAmm9wPYc_1o"
   },
   "source": [
    "#### Classification tasks reduces output variability"
   ]
  },
  {
   "cell_type": "markdown",
   "metadata": {
    "id": "VvRpK_0GdCpf"
   },
   "source": [
    "The prompt below results in a choice and may be useful if you want the output to be easier to control."
   ]
  },
  {
   "cell_type": "code",
   "execution_count": 21,
   "metadata": {
    "id": "kYDKh0r2dAqo",
    "tags": []
   },
   "outputs": [
    {
     "name": "stdout",
     "output_type": "stream",
     "text": [
      "As a high school student, learning to code is a fantastic pursuit! All three languages have their uses, but here's a breakdown to help you choose:\n",
      "\n",
      "**Python:**\n",
      "\n",
      "* **Pros:**  \n",
      "    * Beginner-friendly syntax, making it easier to learn.\n",
      "    * Widely used in data science, machine learning, web development, and scripting.\n",
      "    * Large and active community, meaning lots of resources and help available.\n",
      "* **Cons:**\n",
      "    * Can be slower than some other languages.\n",
      "\n",
      "**JavaScript:**\n",
      "\n",
      "* **Pros:**\n",
      "    * The language of the web, essential for interactive websites and web applications.\n",
      "    * High demand in the job market.\n",
      "    * Can also be used for mobile app development (with frameworks).\n",
      "* **Cons:**\n",
      "    * Can be more complex to learn than Python. \n",
      "\n",
      "**Fortran:**\n",
      "\n",
      "* **Pros:**\n",
      "    * Traditionally used for scientific computing and high-performance applications.\n",
      "    * Still relevant in certain fields like weather forecasting, physics simulations, and engineering.\n",
      "* **Cons:**\n",
      "    * Less popular than Python or JavaScript, meaning fewer job opportunities.\n",
      "    * More complex syntax than Python.\n",
      "\n",
      "**Which one is right for you?**\n",
      "\n",
      "* **If you're interested in web development, data science, machine learning, or just want a beginner-friendly language, Python is a great choice.**\n",
      "* **If you're passionate about web development and want to build interactive websites, JavaScript is a must-learn.**\n",
      "* **If you're interested in scientific computing, engineering, or high-performance computing, Fortran might be relevant, but keep in mind its limited job market.**\n",
      "\n",
      "**Consider these factors as well:**\n",
      "\n",
      "* **Your interests:** What are you passionate about? Do you want to build websites, analyze data, or develop simulations?\n",
      "* **Future career goals:** Do you see yourself working in a particular field that uses a specific language?\n",
      "* **Availability of resources:** Are there good learning materials and communities for the language you choose?\n",
      "\n",
      "Ultimately, the best choice depends on your individual needs and goals. Don't be afraid to experiment and explore! You can always learn multiple languages as you progress. \n",
      "\n"
     ]
    }
   ],
   "source": [
    "prompt = \"\"\"I'm a high school student. Which of these activities do you suggest and why:\n",
    "a) learn Python\n",
    "b) learn JavaScript\n",
    "c) learn Fortran\n",
    "\"\"\"\n",
    "\n",
    "print(call_gemini(prompt))"
   ]
  },
  {
   "cell_type": "markdown",
   "metadata": {
    "id": "iTd60b1GdIsx"
   },
   "source": [
    "### Improve response quality by including examples"
   ]
  },
  {
   "cell_type": "markdown",
   "metadata": {
    "id": "yJi44NejdJYE"
   },
   "source": [
    "Another way to improve response quality is to add examples in your prompt. The LLM learns in-context from the examples on how to respond. Typically, one to five examples (shots) are enough to improve the quality of responses. Including too many examples can cause the model to over-fit the data and reduce the quality of responses.\n",
    "\n",
    "Similar to classical model training, the quality and distribution of the examples is very important. Pick examples that are representative of the scenarios that you need the model to learn, and keep the distribution of the examples (e.g. number of examples per class in the case of classification) aligned with your actual distribution."
   ]
  },
  {
   "cell_type": "markdown",
   "metadata": {
    "id": "sMbLginWdOKs"
   },
   "source": [
    "#### Zero-shot prompt"
   ]
  },
  {
   "cell_type": "markdown",
   "metadata": {
    "id": "Crh2Loi2dQ0v"
   },
   "source": [
    "Below is an example of zero-shot prompting, where you don't provide any examples to the LLM within the prompt itself."
   ]
  },
  {
   "cell_type": "code",
   "execution_count": 25,
   "metadata": {
    "id": "-7myRc-SdTQ4",
    "tags": []
   },
   "outputs": [
    {
     "name": "stdout",
     "output_type": "stream",
     "text": [
      "Sentiment: **Positive** \n",
      "\n"
     ]
    }
   ],
   "source": [
    "prompt = \"\"\"Decide whether a Tweet's sentiment is positive, neutral, or negative.\n",
    "\n",
    "Tweet: I loved the new YouTube video you made!\n",
    "Sentiment:\n",
    "\"\"\"\n",
    "\n",
    "print(call_gemini(prompt))"
   ]
  },
  {
   "cell_type": "markdown",
   "metadata": {
    "id": "ucRtPn9SdL64"
   },
   "source": [
    "#### One-shot prompt"
   ]
  },
  {
   "cell_type": "markdown",
   "metadata": {
    "id": "rs0gQH2vdYBi"
   },
   "source": [
    "Below is an example of one-shot prompting, where you provide one example to the LLM within the prompt to give some guidance on what type of response you want."
   ]
  },
  {
   "cell_type": "code",
   "execution_count": 26,
   "metadata": {
    "id": "iEq-KxGYdaT5",
    "tags": []
   },
   "outputs": [
    {
     "name": "stdout",
     "output_type": "stream",
     "text": [
      "Sentiment: **negative** \n",
      "\n"
     ]
    }
   ],
   "source": [
    "prompt = \"\"\"Decide whether a Tweet's sentiment is positive, neutral, or negative.\n",
    "\n",
    "Tweet: I loved the new YouTube video you made!\n",
    "Sentiment: positive\n",
    "\n",
    "Tweet: That was awful. Super boring 😠\n",
    "Sentiment:\n",
    "\"\"\"\n",
    "\n",
    "print(call_gemini(prompt))"
   ]
  },
  {
   "cell_type": "markdown",
   "metadata": {
    "id": "JnKLjJzmdfL_"
   },
   "source": [
    "#### Few-shot prompt"
   ]
  },
  {
   "cell_type": "markdown",
   "metadata": {
    "id": "6Zv-9F5OdgI_"
   },
   "source": [
    "Below is an example of few-shot prompting, where you provide a few examples to the LLM within the prompt to give some guidance on what type of response you want."
   ]
  },
  {
   "cell_type": "code",
   "execution_count": 27,
   "metadata": {
    "id": "u37P9tG4dk9S",
    "tags": []
   },
   "outputs": [
    {
     "name": "stdout",
     "output_type": "stream",
     "text": [
      "Sentiment: **Positive** \n",
      "\n",
      "Here's why:\n",
      "\n",
      "* **\"Surprised me\"** implies a positive outcome.\n",
      "* **\"Original\"** is a positive attribute.\n",
      "* **\"Not the same old recycled stuff\"** further reinforces the positive sentiment.\n",
      "* **\"Watch it - you will not regret it\"**  is a strong recommendation, indicating enjoyment. \n",
      "\n"
     ]
    }
   ],
   "source": [
    "prompt = \"\"\"Decide whether a Tweet's sentiment is positive, neutral, or negative.\n",
    "\n",
    "Tweet: I loved the new YouTube video you made!\n",
    "Sentiment: positive\n",
    "\n",
    "Tweet: That was awful. Super boring 😠\n",
    "Sentiment: negative\n",
    "\n",
    "Tweet: Something surprised me about this video - it was actually original. It was not the same old recycled stuff that I always see. Watch it - you will not regret it.\n",
    "Sentiment:\n",
    "\"\"\"\n",
    "\n",
    "print(call_gemini(prompt))"
   ]
  },
  {
   "cell_type": "markdown",
   "metadata": {
    "id": "wDMD3xb2dvX6"
   },
   "source": [
    "#### Choosing between zero-shot, one-shot, few-shot prompting methods"
   ]
  },
  {
   "cell_type": "markdown",
   "metadata": {
    "id": "s92W0YpNdxJp"
   },
   "source": [
    "Which prompt technique to use will solely depends on your goal. The zero-shot prompts are more open-ended and can give you creative answers, while one-shot and few-shot prompts teach the model how to behave so you can get more predictable answers that are consistent with the examples provided."
   ]
  }
 ],
 "metadata": {
  "colab": {
   "name": "intro_prompt_design.ipynb",
   "toc_visible": true
  },
  "environment": {
   "kernel": "conda-base-py",
   "name": "workbench-notebooks.m125",
   "type": "gcloud",
   "uri": "us-docker.pkg.dev/deeplearning-platform-release/gcr.io/workbench-notebooks:m125"
  },
  "kernelspec": {
   "display_name": "Python 3 (ipykernel) (Local) (Local)",
   "language": "python",
   "name": "conda-base-py"
  },
  "language_info": {
   "codemirror_mode": {
    "name": "ipython",
    "version": 3
   },
   "file_extension": ".py",
   "mimetype": "text/x-python",
   "name": "python",
   "nbconvert_exporter": "python",
   "pygments_lexer": "ipython3",
   "version": "3.10.15"
  }
 },
 "nbformat": 4,
 "nbformat_minor": 4
}
